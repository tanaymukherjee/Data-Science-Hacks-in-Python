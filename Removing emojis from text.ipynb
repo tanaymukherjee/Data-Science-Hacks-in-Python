{
 "cells": [
  {
   "cell_type": "code",
   "execution_count": 2,
   "metadata": {},
   "outputs": [],
   "source": [
    "# Remove Emojis from text"
   ]
  },
  {
   "cell_type": "code",
   "execution_count": 4,
   "metadata": {},
   "outputs": [
    {
     "name": "stdout",
     "output_type": "stream",
     "text": [
      "Raw tweet: Hi 😂! Have a nice weekend 💕👭\n",
      "Preprocessed tweet: Hi ! Have a nice weekend \n"
     ]
    }
   ],
   "source": [
    "text= \"Hi 😂! Have a nice weekend 💕👭\"\n",
    "preprocessed_text=text.encode('ascii', 'ignore').decode('ascii')\n",
    "\n",
    "#with emoji\n",
    "print(\"Raw tweet:\",text)\n",
    "\n",
    "# no emoji\n",
    "print(\"Preprocessed tweet:\",preprocessed_text) "
   ]
  }
 ],
 "metadata": {
  "kernelspec": {
   "display_name": "Python 3",
   "language": "python",
   "name": "python3"
  },
  "language_info": {
   "codemirror_mode": {
    "name": "ipython",
    "version": 3
   },
   "file_extension": ".py",
   "mimetype": "text/x-python",
   "name": "python",
   "nbconvert_exporter": "python",
   "pygments_lexer": "ipython3",
   "version": "3.7.3"
  }
 },
 "nbformat": 4,
 "nbformat_minor": 2
}

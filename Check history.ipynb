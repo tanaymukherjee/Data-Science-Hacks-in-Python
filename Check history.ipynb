{
 "cells": [
  {
   "cell_type": "code",
   "execution_count": 2,
   "metadata": {},
   "outputs": [
    {
     "name": "stdout",
     "output_type": "stream",
     "text": [
      "\n",
      "# list of all commands\n",
      "%history\n",
      "\n",
      "# list of all commands\n",
      "%history\n"
     ]
    }
   ],
   "source": [
    "# list of all commands\n",
    "%history"
   ]
  },
  {
   "cell_type": "code",
   "execution_count": 3,
   "metadata": {},
   "outputs": [
    {
     "name": "stdout",
     "output_type": "stream",
     "text": [
      "\n",
      "# list of all commands\n",
      "%history\n",
      "\n",
      "# list of all commands\n",
      "%history\n",
      "# prints the command as well as output \n",
      "%history -o\n"
     ]
    }
   ],
   "source": [
    "# prints the command as well as output \n",
    "%history -o"
   ]
  },
  {
   "cell_type": "code",
   "execution_count": 4,
   "metadata": {},
   "outputs": [
    {
     "name": "stdout",
     "output_type": "stream",
     "text": [
      "   1:\n",
      "# list of all commands\n",
      "get_ipython().run_line_magic('history', '')\n",
      "   2:\n",
      "# list of all commands\n",
      "get_ipython().run_line_magic('history', '')\n",
      "   3:\n",
      "# prints the command as well as output \n",
      "get_ipython().run_line_magic('history', '-o')\n",
      "   4:\n",
      "# prints translated  history - converts it into valid python commands before execustion\n",
      "# eg - %history --> get_ipython().run_line_magic('history', '')\n",
      "get_ipython().run_line_magic('history', '-n -t')\n"
     ]
    }
   ],
   "source": [
    "# prints translated  history - converts it into valid python commands before execustion\n",
    "# eg - %history --> get_ipython().run_line_magic('history', '')\n",
    "%history -n -t"
   ]
  },
  {
   "cell_type": "code",
   "execution_count": null,
   "metadata": {},
   "outputs": [],
   "source": []
  }
 ],
 "metadata": {
  "kernelspec": {
   "display_name": "Python 3",
   "language": "python",
   "name": "python3"
  },
  "language_info": {
   "codemirror_mode": {
    "name": "ipython",
    "version": 3
   },
   "file_extension": ".py",
   "mimetype": "text/x-python",
   "name": "python",
   "nbconvert_exporter": "python",
   "pygments_lexer": "ipython3",
   "version": "3.7.3"
  }
 },
 "nbformat": 4,
 "nbformat_minor": 2
}
